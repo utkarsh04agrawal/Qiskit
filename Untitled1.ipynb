{
 "cells": [
  {
   "cell_type": "code",
   "execution_count": 13,
   "id": "801df38f",
   "metadata": {},
   "outputs": [],
   "source": [
    "import numpy as np\n",
    "from scipy.stats import ortho_group\n",
    "import matplotlib.pyplot as pl"
   ]
  },
  {
   "cell_type": "code",
   "execution_count": 79,
   "id": "b042b7bb",
   "metadata": {},
   "outputs": [],
   "source": [
    "N=1000"
   ]
  },
  {
   "cell_type": "code",
   "execution_count": 80,
   "id": "8a899de5",
   "metadata": {},
   "outputs": [],
   "source": [
    "U = ortho_group.rvs(N)"
   ]
  },
  {
   "cell_type": "code",
   "execution_count": 82,
   "id": "ae564880",
   "metadata": {},
   "outputs": [],
   "source": [
    "toeplitz = np.zeros((N,N))\n",
    "for i in range(N-1):\n",
    "    toeplitz[i,i+1]=1\n"
   ]
  },
  {
   "cell_type": "code",
   "execution_count": 83,
   "id": "88aa97d2",
   "metadata": {},
   "outputs": [],
   "source": [
    "pert_1 = np.dot(np.dot(U,toeplitz+np.dot(toeplitz,toeplitz)),U.T)"
   ]
  },
  {
   "cell_type": "code",
   "execution_count": 87,
   "id": "2d95522d",
   "metadata": {},
   "outputs": [],
   "source": [
    "eps = 0.1\n",
    "pert_2 = toeplitz + toeplitz@toeplitz + eps*U"
   ]
  },
  {
   "cell_type": "code",
   "execution_count": 88,
   "id": "3d24b5cd",
   "metadata": {},
   "outputs": [],
   "source": [
    "eig_val = np.linalg.eigvals(pert_2)\n"
   ]
  },
  {
   "cell_type": "code",
   "execution_count": 89,
   "id": "454cd9a2",
   "metadata": {},
   "outputs": [
    {
     "data": {
      "text/plain": [
       "[<matplotlib.lines.Line2D at 0x2986261cbb0>]"
      ]
     },
     "execution_count": 89,
     "metadata": {},
     "output_type": "execute_result"
    },
    {
     "data": {
      "image/png": "[encoded data removed]",
      "text/plain": [
       "<Figure size 432x288 with 1 Axes>"
      ]
     },
     "metadata": {
      "needs_background": "light"
     },
     "output_type": "display_data"
    }
   ],
   "source": [
    "pl.plot(np.real(eig_val),np.imag(eig_val),'o')"
   ]
  },
  {
   "cell_type": "code",
   "execution_count": null,
   "id": "2ec5945d",
   "metadata": {},
   "outputs": [],
   "source": []
  }
 ],
 "metadata": {
  "kernelspec": {
   "display_name": "Python 3 (ipykernel)",
   "language": "python",
   "name": "python3"
  },
  "language_info": {
   "codemirror_mode": {
    "name": "ipython",
    "version": 3
   },
   "file_extension": ".py",
   "mimetype": "text/x-python",
   "name": "python",
   "nbconvert_exporter": "python",
   "pygments_lexer": "ipython3",
   "version": "3.10.4"
  }
 },
 "nbformat": 4,
 "nbformat_minor": 5
}
